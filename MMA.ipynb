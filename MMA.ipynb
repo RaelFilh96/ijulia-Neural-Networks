{
 "cells": [
  {
   "cell_type": "code",
   "execution_count": null,
   "id": "cfaf9230-b14b-4768-ba15-981ee2004821",
   "metadata": {},
   "outputs": [],
   "source": [
    "Using Plots\n",
    "plotly()"
   ]
  },
  {
   "cell_type": "code",
   "execution_count": null,
   "id": "aacf0d16-db45-463c-8cc8-b1749b0cc592",
   "metadata": {},
   "outputs": [],
   "source": [
    "Plots.PlotlyBackend()"
   ]
  },
  {
   "cell_type": "code",
   "execution_count": null,
   "id": "891572dd-4615-4cd0-8219-47955100e275",
   "metadata": {},
   "outputs": [],
   "source": [
    "using Pycall\n",
    "using Conda\n",
    "                                \n",
    "    \n",
    "@pyimport vectorbt as vbt"
   ]
  },
  {
   "cell_type": "code",
   "execution_count": null,
   "id": "741f5351-2c6e-43db-ae00-23ac076943c6",
   "metadata": {},
   "outputs": [],
   "source": [
    "dos_dia = vbt.BinanceData.download(\"ETHUSD\", start=\"2022-07-01\", interval=\"1d\").get()"
   ]
  },
  {
   "cell_type": "code",
   "execution_count": null,
   "id": "e111a95c-eb9e-4f66-b1f1-6bbc2eba63d9",
   "metadata": {},
   "outputs": [],
   "source": [
    "Σᵢᵏ = sum\n",
    "MA(V) = Σᵢᵏ(V)/length(V)\n",
    "MA(V,i,k) = i ≥ 1 && k ≥ i ? Σᵢᵏ(V[i:k])/(1+(k-i)) : missing"
   ]
  },
  {
   "cell_type": "code",
   "execution_count": 19,
   "id": "bba618ac-d987-42c1-b54a-d783a54ba1a1",
   "metadata": {},
   "outputs": [
    {
     "ename": "LoadError",
     "evalue": "UndefVarError: MA not defined",
     "output_type": "error",
     "traceback": [
      "UndefVarError: MA not defined",
      "",
      "Stacktrace:",
      " [1] (::var\"#46#48\"{Int64, var\"#k#47\"{Int64}, Vector{Int64}})(i::Int64)",
      "   @ Main .\\none:0",
      " [2] iterate",
      "   @ .\\generator.jl:47 [inlined]",
      " [3] collect(itr::Base.Generator{UnitRange{Int64}, var\"#46#48\"{Int64, var\"#k#47\"{Int64}, Vector{Int64}}})",
      "   @ Base .\\array.jl:787",
      " [4] MMA(V::Vector{Int64}, P::Int64)",
      "   @ Main .\\In[19]:5",
      " [5] top-level scope",
      "   @ In[19]:8",
      " [6] eval",
      "   @ .\\boot.jl:368 [inlined]",
      " [7] include_string(mapexpr::typeof(REPL.softscope), mod::Module, code::String, filename::String)",
      "   @ Base .\\loading.jl:1428"
     ]
    }
   ],
   "source": [
    "MMA(V,P) = begin\n",
    "    Vᵣ = reverse(V)\n",
    "    k(i) = i+P-1\n",
    "    n = length(V)\n",
    "    Rᵥᵣ = [(k(i) <= n ? (MA(Vᵣ,i,k(i))) : missing) for i in 1:n] \n",
    "    reverse(Rᵥᵣ)\n",
    "end\n",
    "MMA([1,2,3,4,5,6,7],3)"
   ]
  },
  {
   "cell_type": "code",
   "execution_count": null,
   "id": "a0f1eee8-401b-4171-80d6-faf5868100d7",
   "metadata": {},
   "outputs": [],
   "source": []
  },
  {
   "cell_type": "code",
   "execution_count": null,
   "id": "59e394be-0a3a-412f-bb87-9ed26a5c222c",
   "metadata": {},
   "outputs": [],
   "source": []
  },
  {
   "cell_type": "code",
   "execution_count": null,
   "id": "b022a476-1e05-453b-a27e-b591ebb0c253",
   "metadata": {},
   "outputs": [],
   "source": []
  }
 ],
 "metadata": {
  "kernelspec": {
   "display_name": "Julia 1.8.3",
   "language": "julia",
   "name": "julia-1.8"
  },
  "language_info": {
   "file_extension": ".jl",
   "mimetype": "application/julia",
   "name": "julia",
   "version": "1.8.3"
  }
 },
 "nbformat": 4,
 "nbformat_minor": 5
}
